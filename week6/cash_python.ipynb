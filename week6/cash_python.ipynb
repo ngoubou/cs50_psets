{
 "cells": [
  {
   "cell_type": "code",
   "execution_count": 18,
   "metadata": {},
   "outputs": [
    {
     "name": "stdout",
     "output_type": "stream",
     "text": [
      "How much:.62\n",
      "number of coins is 5\n"
     ]
    }
   ],
   "source": [
    "# i'm implementing cs50 problem set 1 'cash' in python\n",
    "# this problem is also named the coin change problem\n",
    "\n",
    "# prompt the user to enter a number\n",
    "# in python (3), input is a string so i convert it to float\n",
    "dollars = float(input(\"How much:\"))\n",
    "# to handle float imprecision i convert it to an integer and round it\n",
    "change = round(dollars * 100)\n",
    "# i initialize a ariable that will keep track of \n",
    "# the number of times the loop is executed\n",
    "# this number represents the minimum of coins for change\n",
    "coins = 0\n",
    "while change >= 25:\n",
    "    change = change - 25\n",
    "    coins = coins + 1\n",
    "    \n",
    "while change >= 10:\n",
    "    change = change - 10\n",
    "    coins = coins + 1\n",
    "    \n",
    "while change >= 5:\n",
    "    change = change - 5\n",
    "    coins = coins + 1\n",
    "    \n",
    "while change >= 1:\n",
    "    change = change - 1\n",
    "    coins = coins + 1    \n",
    "\n",
    "print(\"number of coins is \" + str(coins))\n",
    "\n"
   ]
  },
  {
   "cell_type": "code",
   "execution_count": null,
   "metadata": {},
   "outputs": [],
   "source": []
  }
 ],
 "metadata": {
  "kernelspec": {
   "display_name": "Python 3",
   "language": "python",
   "name": "python3"
  },
  "language_info": {
   "codemirror_mode": {
    "name": "ipython",
    "version": 3
   },
   "file_extension": ".py",
   "mimetype": "text/x-python",
   "name": "python",
   "nbconvert_exporter": "python",
   "pygments_lexer": "ipython3",
   "version": "3.7.4"
  }
 },
 "nbformat": 4,
 "nbformat_minor": 2
}
