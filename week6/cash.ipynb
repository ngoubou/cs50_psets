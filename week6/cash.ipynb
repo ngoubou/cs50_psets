{
 "cells": [
  {
   "cell_type": "code",
   "execution_count": null,
   "metadata": {},
   "outputs": [],
   "source": [
    "# I'm implementing CS50 problem set 1 'cash' in python.\n",
    "# This problem is also named the coin change problem\n",
    "\n",
    "# Function to dreplace the dots in input numbers\n",
    "# so i can test if it is a valid number\n",
    "def rreplace(s, old, new, occurrence):\n",
    "    li = s.rsplit(old, occurrence)\n",
    "    return new.join(li)\n",
    "\n",
    "\n",
    "# Prompt the user to enter a number.\n",
    "# If input is negative or not a number, keep asking\n",
    "while True:\n",
    "    dollars = input(\"How much: \")\n",
    "    temp = rreplace(dollars, '.', '', dollars.count('.'))\n",
    "    if not temp.isdigit() or float(dollars) < 0:\n",
    "        continue\n",
    "    \n",
    "    else:\n",
    "        break\n",
    "    \n",
    "# In python 3, input is a string so i convert it to float\n",
    "# To handle float imprecision i round it to the 100th\n",
    "change = round(float(dollars) * 100)\n",
    "\n",
    "# I initialize a variable that will keep track of\n",
    "# the number of times the loop is executed.\n",
    "# This number represents the minimum of coins for change\n",
    "coins = 0\n",
    "\n",
    "# Create an array that'll store the coins face values\n",
    "array = [25, 10, 5, 1]\n",
    "\n",
    "# Iterate through the array and subtract the biggest value\n",
    "# As long as the change is greater or equaled to the largest coin\n",
    "for i in range(len(array)):\n",
    "    while change >= array[i]:\n",
    "        change = change - array[i]\n",
    "        coins = coins + 1\n",
    "\n",
    "print(\"number of coins is \" + str(coins))\n"
   ]
  }
 ],
 "metadata": {
  "kernelspec": {
   "display_name": "Python 3",
   "language": "python",
   "name": "python3"
  },
  "language_info": {
   "codemirror_mode": {
    "name": "ipython",
    "version": 3
   },
   "file_extension": ".py",
   "mimetype": "text/x-python",
   "name": "python",
   "nbconvert_exporter": "python",
   "pygments_lexer": "ipython3",
   "version": "3.7.4"
  }
 },
 "nbformat": 4,
 "nbformat_minor": 2
}
